{
  "nbformat": 4,
  "nbformat_minor": 0,
  "metadata": {
    "colab": {
      "provenance": [],
      "authorship_tag": "ABX9TyNahBdCp9WICorUXf1LGP7A",
      "include_colab_link": true
    },
    "kernelspec": {
      "name": "python3",
      "display_name": "Python 3"
    },
    "language_info": {
      "name": "python"
    }
  },
  "cells": [
    {
      "cell_type": "markdown",
      "metadata": {
        "id": "view-in-github",
        "colab_type": "text"
      },
      "source": [
        "<a href=\"https://colab.research.google.com/github/Anmolkr1909/File_Handling/blob/main/file_handling.ipynb\" target=\"_parent\"><img src=\"https://colab.research.google.com/assets/colab-badge.svg\" alt=\"Open In Colab\"/></a>"
      ]
    },
    {
      "cell_type": "markdown",
      "source": [
        "84) Safe Division Calculator\n",
        "*   Avoids crash when user enters zero or invalid input"
      ],
      "metadata": {
        "id": "1zL2QP4cUbL2"
      }
    },
    {
      "cell_type": "code",
      "source": [
        "try:\n",
        "    a = int(input(\"Enter first number: \"))\n",
        "    b = int(input(\"Enter second number: \"))\n",
        "    result = a / b\n",
        "    print(\"Result:\", result)\n",
        "\n",
        "except ZeroDivisionError:\n",
        "    print(\"Cannot divide by 0\")\n",
        "\n",
        "except ValueError:\n",
        "    print(\"Please enter only numbers\")\n"
      ],
      "metadata": {
        "colab": {
          "base_uri": "https://localhost:8080/"
        },
        "id": "TaBglPn1Uver",
        "outputId": "02db125b-1904-4f8c-de62-32a8d4f402dc"
      },
      "execution_count": null,
      "outputs": [
        {
          "output_type": "stream",
          "name": "stdout",
          "text": [
            "Enter first number: 0\n",
            "Enter second number: 0\n",
            "Cannot divide by 0\n"
          ]
        }
      ]
    },
    {
      "cell_type": "markdown",
      "source": [
        "\n",
        "\n",
        "---\n",
        "\n"
      ],
      "metadata": {
        "id": "14THbCTPVnfy"
      }
    },
    {
      "cell_type": "markdown",
      "source": [
        "85) Age Verification System\n",
        "* Allows access only if user is 18+"
      ],
      "metadata": {
        "id": "AhyWLtTGVsgU"
      }
    },
    {
      "cell_type": "code",
      "execution_count": null,
      "metadata": {
        "colab": {
          "base_uri": "https://localhost:8080/"
        },
        "id": "KKB1uWTOUF5s",
        "outputId": "b9d763e7-5315-4da1-e32b-17a0ab026a4d"
      },
      "outputs": [
        {
          "output_type": "stream",
          "name": "stdout",
          "text": [
            "Enter your age: 30\n",
            "Access granted!\n"
          ]
        }
      ],
      "source": [
        "try:\n",
        "    age = int(input(\"Enter your age: \"))\n",
        "\n",
        "    if age < 18:\n",
        "        raise ValueError(\"You must be 18 or older to access.\")\n",
        "    else:\n",
        "        print(\"Access granted!\")\n",
        "\n",
        "except ValueError as e:\n",
        "    print(e)"
      ]
    },
    {
      "cell_type": "markdown",
      "source": [
        "\n",
        "\n",
        "---\n",
        "\n"
      ],
      "metadata": {
        "id": "gpdRyXNdWbgN"
      }
    },
    {
      "cell_type": "markdown",
      "source": [
        "86) Bank Balance Checker\n",
        "*  Checks if enough balance is available for withdrawal"
      ],
      "metadata": {
        "id": "da5DBY-QWWgX"
      }
    },
    {
      "cell_type": "code",
      "source": [
        "try:\n",
        "    balance = 5000\n",
        "    withdraw = int(input(\"Enter amount to withdraw: \"))\n",
        "\n",
        "    if withdraw > balance:\n",
        "        raise ValueError(\"Not enough balance\")\n",
        "    else:\n",
        "        balance -= withdraw\n",
        "        print(\"Withdrawal successful. New balance: ₹\", balance)\n",
        "\n",
        "except ValueError as error:\n",
        "    print(error)\n"
      ],
      "metadata": {
        "colab": {
          "base_uri": "https://localhost:8080/"
        },
        "id": "JpwjCGWDWoUC",
        "outputId": "3db8850e-6e46-40d9-e8b7-a111f7d94799"
      },
      "execution_count": null,
      "outputs": [
        {
          "output_type": "stream",
          "name": "stdout",
          "text": [
            "Enter amount to withdraw: 30000\n",
            "Not enough balance\n"
          ]
        }
      ]
    },
    {
      "cell_type": "markdown",
      "source": [
        "\n",
        "\n",
        "---\n",
        "\n"
      ],
      "metadata": {
        "id": "NH_dWxSIW48L"
      }
    },
    {
      "cell_type": "markdown",
      "source": [
        "87)  File Reader (File Not Found Error)\n",
        "*    Reads a file safely, even if the file is missing"
      ],
      "metadata": {
        "id": "yAALWgsAW7Gz"
      }
    },
    {
      "cell_type": "code",
      "source": [
        "try:\n",
        "    file = open(\"data.txt\", \"r\")\n",
        "    content = file.read()\n",
        "    print(\"File content:\")\n",
        "    print(content)\n",
        "    file.close()\n",
        "\n",
        "except FileNotFoundError:\n",
        "    print(\"File not found\")\n"
      ],
      "metadata": {
        "colab": {
          "base_uri": "https://localhost:8080/"
        },
        "id": "VU1R1C51XP7c",
        "outputId": "18dd708e-9a07-4ffc-cbd1-d14ca7c597b4"
      },
      "execution_count": null,
      "outputs": [
        {
          "output_type": "stream",
          "name": "stdout",
          "text": [
            "File not found\n"
          ]
        }
      ]
    },
    {
      "cell_type": "markdown",
      "source": [
        "\n",
        "\n",
        "---\n",
        "\n"
      ],
      "metadata": {
        "id": "Uk8buZ-OXXRd"
      }
    },
    {
      "cell_type": "markdown",
      "source": [
        "88)Grade Checker with Exception\n",
        "*   Only allows marks between 0 and 100"
      ],
      "metadata": {
        "id": "ibi57g1ZXYia"
      }
    },
    {
      "cell_type": "code",
      "source": [
        "try:\n",
        "    marks = int(input(\"Enter your marks (0-100): \"))\n",
        "\n",
        "    if marks < 0 or marks > 100:\n",
        "        raise ValueError(\"❌ Marks should be between 0 and 100\")\n",
        "\n",
        "    if marks >= 90:\n",
        "        print(\"Grade: A\")\n",
        "    elif marks >= 75:\n",
        "        print(\"Grade: B\")\n",
        "    elif marks >= 50:\n",
        "        print(\"Grade: C\")\n",
        "    else:\n",
        "        print(\"Grade: D\")\n",
        "\n",
        "except ValueError as e:\n",
        "    print(e)\n"
      ],
      "metadata": {
        "id": "Ackza-DwW5xP"
      },
      "execution_count": null,
      "outputs": []
    },
    {
      "cell_type": "markdown",
      "source": [
        "\n",
        "\n",
        "---\n",
        "\n",
        "\n",
        "\n",
        "---\n",
        "\n"
      ],
      "metadata": {
        "id": "in5uUrraWWeU"
      }
    }
  ]
}